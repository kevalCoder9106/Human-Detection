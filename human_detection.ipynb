{
  "nbformat": 4,
  "nbformat_minor": 0,
  "metadata": {
    "colab": {
      "name": "human_detection",
      "provenance": [],
      "collapsed_sections": [],
      "authorship_tag": "ABX9TyMWtnzKwolNiZ3HSjIpnlj3",
      "include_colab_link": true
    },
    "kernelspec": {
      "name": "python3",
      "display_name": "Python 3"
    },
    "language_info": {
      "name": "python"
    }
  },
  "cells": [
    {
      "cell_type": "markdown",
      "metadata": {
        "id": "view-in-github",
        "colab_type": "text"
      },
      "source": [
        "<a href=\"https://colab.research.google.com/github/kevalCoder9106/Human-Detection/blob/main/human_detection.ipynb\" target=\"_parent\"><img src=\"https://colab.research.google.com/assets/colab-badge.svg\" alt=\"Open In Colab\"/></a>"
      ]
    },
    {
      "cell_type": "code",
      "metadata": {
        "id": "frSs28Z1iX5c"
      },
      "source": [
        "# installing yolov5\n",
        "!git clone https://github.com/ultralytics/yolov5.git"
      ],
      "execution_count": null,
      "outputs": []
    },
    {
      "cell_type": "code",
      "metadata": {
        "id": "YzMaXPKfi_pU"
      },
      "source": [
        "# moving to yolov5 folder\n",
        "%cd /content/yolov5"
      ],
      "execution_count": null,
      "outputs": []
    },
    {
      "cell_type": "code",
      "metadata": {
        "id": "_NKg0ezijBpm"
      },
      "source": [
        "!python detect.py --weights yolov5s.pt --source /content/yolov5/res/photo1.png --classes 0 --save-txt"
      ],
      "execution_count": null,
      "outputs": []
    }
  ]
}